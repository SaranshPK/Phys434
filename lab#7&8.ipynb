{
 "metadata": {
  "language_info": {
   "codemirror_mode": {
    "name": "ipython",
    "version": 3
   },
   "file_extension": ".py",
   "mimetype": "text/x-python",
   "name": "python",
   "nbconvert_exporter": "python",
   "pygments_lexer": "ipython3",
   "version": "3.7.4-final"
  },
  "orig_nbformat": 2,
  "kernelspec": {
   "name": "python37464bitbaseconda0cd09718d3184cc3929a75abb19c68c3",
   "display_name": "Python 3.7.4 64-bit ('base': conda)",
   "language": "python"
  }
 },
 "nbformat": 4,
 "nbformat_minor": 2,
 "cells": [
  {
   "source": [
    "# Lab 7 & 8\n",
    "\n",
    "Saransh Kacharia\n",
    "<br>\n",
    "December 13th, 2020\n",
    "\n",
    "## Higgs Classification Background\n",
    "\n",
    "In this project we are going to look at an inclusive search for the standard model Higgs boson in pp collisions at $\\sqrt{s} = 13$ TeV at the LHC using simulated data. The Higgs bosons are produced with large transverse momentum (pT) and decaying to a bottom quark-antiquark pair. The Higgs candidates could be reconstructed as large-radius jets using Calorimeters. Due to large QCD backgorund containmination, the direct 5-sigma observation of this Higgs channel is not accomplished yet. We are going to use a set of training datasets to optimize event selections in order to enhance the discovery sensitivity. The optimal event selections will be applied to a selected pseudo-experiment data.\n",
    "\n"
   ],
   "cell_type": "markdown",
   "metadata": {}
  },
  {
   "source": [
    "## Event Selection Optimization\n",
    "\n",
    "This is the event selection optimization for the low-pT samples. The optimal event selections will be applied to selected pseudo-experiment data."
   ],
   "cell_type": "markdown",
   "metadata": {}
  },
  {
   "cell_type": "code",
   "execution_count": 1,
   "metadata": {},
   "outputs": [],
   "source": [
    "import pickle\n",
    "import numpy as np\n",
    "import math\n",
    "import matplotlib.pyplot as plt\n",
    "import h5py\n",
    "import pandas as pd\n",
    "from scipy import stats"
   ]
  },
  {
   "cell_type": "code",
   "execution_count": null,
   "metadata": {},
   "outputs": [],
   "source": [
    "plt.rcParams[\"figure.figsize\"] = (8,8)"
   ]
  },
  {
   "cell_type": "code",
   "execution_count": null,
   "metadata": {},
   "outputs": [],
   "source": [
    "infile_qcd = open(\"qcd_100000_pt_250_500.pkl\", 'rb')\n",
    "qcdData = pickle.load(infile_qcd)\n",
    "\n",
    "infile_higgs = open(\"higgs_100000_pt_250_500.pkl\", 'rb')\n",
    "higgsData = pickle.load(infile_higgs)\n",
    "\n",
    "features = [key for key in qcdData.keys()]\n",
    "print(features)"
   ]
  },
  {
   "source": [
    "## Problem 1"
   ],
   "cell_type": "markdown",
   "metadata": {}
  },
  {
   "cell_type": "code",
   "execution_count": null,
   "metadata": {},
   "outputs": [],
   "source": [
    "qcd_hist = plt.hist(qcdData.mass, bins=1000, label='QCD', alpha=0.7)\n",
    "higgs_hist = plt.hist(higgsData.mass, bins=1000, label='Higgs', alpha=0.7)\n",
    "plt.ylabel('Count')\n",
    "plt.xlabel('Mass (GeV)')\n",
    "plt.ylim(0,4000)\n",
    "plt.legend()\n",
    "plt.show()"
   ]
  },
  {
   "source": [
    "\n",
    "This is a histogram of the QCD jet mass (blue) and the Higgs jet mass (orange).\n",
    "\n",
    "Now we can find the significance of the Higgs without any event selection"
   ],
   "cell_type": "markdown",
   "metadata": {}
  },
  {
   "cell_type": "code",
   "execution_count": null,
   "metadata": {},
   "outputs": [],
   "source": [
    "exp_higgs = 100\n",
    "exp_qcd = 20000\n",
    "exp_tot = exp_qcd + exp_higgs\n",
    "\n",
    "theoretical_sig = abs(stats.norm.ppf(1-stats.poisson.cdf(exp_tot, exp_qcd)))\n",
    "print(f'Theoretical Significance: {theoretical_sig}')\n",
    "\n",
    "observed_sig = exp_higgs/math.sqrt(exp_qcd)\n",
    "print(f'Observed Significance: {observed_sig}')"
   ]
  },
  {
   "source": [
    "The observed significane is $\\frac{N_{\\text{Higgs}}}{\\sqrt{N_{\\text{QCD}}}} = 0.7071$ which is $0.005$ away from the theoretical value of $0.7112$"
   ],
   "cell_type": "markdown",
   "metadata": {}
  },
  {
   "source": [
    "## Problem 2"
   ],
   "cell_type": "markdown",
   "metadata": {}
  },
  {
   "cell_type": "code",
   "execution_count": null,
   "metadata": {},
   "outputs": [],
   "source": [
    "\n",
    "def cut(a,b,higgs,qcd):\n",
    "    if b<=a:\n",
    "        return 0, 0, 0, 0, 0\n",
    "    higgs_cut = higgsData[higgs>a]\n",
    "    higgs_cut = higgs_cut[higgs<b]\n",
    "\n",
    "    qcd_cut = qcdData[qcd>a]\n",
    "    qcd_cut = qcd_cut[qcd<b]\n",
    "\n",
    "    higgs_n = 100*len(higgs_cut)/len(higgs)\n",
    "    qcd_n = 20000*len(qcd_cut)/len(qcd)\n",
    "    \n",
    "    sig = abs(stats.norm.ppf(1-stats.poisson.cdf(higgs_n+qcd_n,qcd_n)))\n",
    "    return higgs_cut, qcd_cut, sig, a, b\n",
    "\n",
    "def findBest(higgs, qcd, start, stop, step):\n",
    "    highestSig = higsCutt = qcdCutt = mass = aa = bb = 0\n",
    "    for i in np.arange(start,stop, step):\n",
    "        for j in np.arange(start,stop, step):\n",
    "            higgs_cut, qcd_cut, sig, a, b = cut(i,j,higgs,qcd)\n",
    "            if sig > highestSig:\n",
    "                higsCutt = higgs_cut\n",
    "                qcdCutt = qcd_cut\n",
    "                highestSig = sig\n",
    "                aa = a\n",
    "                bb = b\n",
    "    print(f\"Best Significance Range {aa}-{bb} with Significance: {highestSig}\")   \n",
    "    return higsCutt, qcdCutt\n",
    "\n",
    "def plotAll(qcd_Data, higgs_Data):\n",
    "    fig, ax_arr = plt.subplots(len(qcd_Data.keys()),1, figsize=(15,50))\n",
    "    index = 0\n",
    "    for key in qcd_Data.keys():\n",
    "        ax_arr[index].hist(qcd_Data.get(key), bins=100, density=True, alpha=0.7)\n",
    "        ax_arr[index].title.set_text(key)\n",
    "        ax_arr[index].hist(higgs_Data.get(key), bins=100, density=True, alpha=0.7)\n",
    "        ax_arr[index].title.set_text(key)\n",
    "        index += 1"
   ]
  },
  {
   "cell_type": "code",
   "execution_count": null,
   "metadata": {},
   "outputs": [],
   "source": [
    "higgsCut, qcdCut = findBest(higgsData.mass, qcdData.mass, 120, 135, 1)"
   ]
  },
  {
   "source": [
    "## Problem 3\n",
    "\n",
    "After we have the best mass cut we can plot the rest of the features to see if they ahve good significance using the cut.\n",
    "\n",
    "Here are plots without the cut. And below these are plots with the cut."
   ],
   "cell_type": "markdown",
   "metadata": {}
  },
  {
   "cell_type": "code",
   "execution_count": null,
   "metadata": {},
   "outputs": [],
   "source": [
    "plotAll(higgsData, qcdData)"
   ]
  },
  {
   "source": [
    "Below are the plots with the optimal cut from 124-128"
   ],
   "cell_type": "markdown",
   "metadata": {}
  },
  {
   "cell_type": "code",
   "execution_count": null,
   "metadata": {},
   "outputs": [],
   "source": [
    "plotAll(higgsCut, qcdCut)"
   ]
  },
  {
   "source": [
    "## Problem 4"
   ],
   "cell_type": "markdown",
   "metadata": {}
  },
  {
   "source": [
    "Best cut for KRDeltaR"
   ],
   "cell_type": "markdown",
   "metadata": {}
  },
  {
   "cell_type": "code",
   "execution_count": null,
   "metadata": {},
   "outputs": [],
   "source": [
    "_, _ = findBest(higgsData.KtDeltaR, qcdData.KtDeltaR, 0, 1, 0.1)"
   ]
  },
  {
   "source": [
    "Best cut for t2"
   ],
   "cell_type": "markdown",
   "metadata": {}
  },
  {
   "cell_type": "code",
   "execution_count": null,
   "metadata": {},
   "outputs": [],
   "source": [
    "_, _ = findBest(higgsData.t2, qcdData.t2, 0, 1, 0.1)"
   ]
  },
  {
   "source": [
    "Best cut for d2"
   ],
   "cell_type": "markdown",
   "metadata": {}
  },
  {
   "cell_type": "code",
   "execution_count": null,
   "metadata": {},
   "outputs": [],
   "source": [
    "_, _ = findBest(higgsData.d2, qcdData.d2, 0, 20, 1)"
   ]
  },
  {
   "source": [
    "To improve our cut, we can cut on both mass and d2 and then calculate significance from d2."
   ],
   "cell_type": "markdown",
   "metadata": {}
  },
  {
   "source": [
    "## Pseudo-experimental Data Analysys"
   ],
   "cell_type": "markdown",
   "metadata": {}
  },
  {
   "source": [
    "## Problem 1"
   ],
   "cell_type": "markdown",
   "metadata": {}
  },
  {
   "cell_type": "code",
   "execution_count": 1,
   "metadata": {},
   "outputs": [],
   "source": [
    "import pandas as pd"
   ]
  },
  {
   "cell_type": "code",
   "execution_count": 3,
   "metadata": {},
   "outputs": [
    {
     "output_type": "stream",
     "name": "stdout",
     "text": [
      "Total experiment events: 40344\n"
     ]
    }
   ],
   "source": [
    "# high luminosity\n",
    "high = pd.read_hdf('data_highLumi_pt_250_500.h5')\n",
    "print(f'Total experiment events: {len(high.mass)}')"
   ]
  },
  {
   "cell_type": "code",
   "execution_count": 4,
   "metadata": {},
   "outputs": [
    {
     "output_type": "error",
     "ename": "NameError",
     "evalue": "name 'higgsData' is not defined",
     "traceback": [
      "\u001b[1;31m---------------------------------------------------------------------------\u001b[0m",
      "\u001b[1;31mNameError\u001b[0m                                 Traceback (most recent call last)",
      "\u001b[1;32m<ipython-input-4-66aa7cc9ae1a>\u001b[0m in \u001b[0;36m<module>\u001b[1;34m\u001b[0m\n\u001b[1;32m----> 1\u001b[1;33m \u001b[0mN_higgs\u001b[0m \u001b[1;33m=\u001b[0m \u001b[0mlen\u001b[0m\u001b[1;33m(\u001b[0m\u001b[0mhigh\u001b[0m\u001b[1;33m.\u001b[0m\u001b[0mmass\u001b[0m\u001b[1;33m)\u001b[0m\u001b[1;33m/\u001b[0m\u001b[0mlen\u001b[0m\u001b[1;33m(\u001b[0m\u001b[0mhiggsData\u001b[0m\u001b[1;33m.\u001b[0m\u001b[0mmass\u001b[0m\u001b[1;33m)\u001b[0m\u001b[1;33m*\u001b[0m\u001b[0mexp_higgs\u001b[0m\u001b[1;33m\u001b[0m\u001b[1;33m\u001b[0m\u001b[0m\n\u001b[0m\u001b[0;32m      2\u001b[0m \u001b[0mN_qcd\u001b[0m \u001b[1;33m=\u001b[0m \u001b[0mlen\u001b[0m\u001b[1;33m(\u001b[0m\u001b[0mhigh\u001b[0m\u001b[1;33m.\u001b[0m\u001b[0mmass\u001b[0m\u001b[1;33m)\u001b[0m\u001b[1;33m/\u001b[0m\u001b[0mlen\u001b[0m\u001b[1;33m(\u001b[0m\u001b[0mqcdData\u001b[0m\u001b[1;33m.\u001b[0m\u001b[0mmass\u001b[0m\u001b[1;33m)\u001b[0m\u001b[1;33m*\u001b[0m\u001b[0mexp_qcd\u001b[0m\u001b[1;33m\u001b[0m\u001b[1;33m\u001b[0m\u001b[0m\n\u001b[0;32m      3\u001b[0m \u001b[0mprint\u001b[0m\u001b[1;33m(\u001b[0m\u001b[1;34mf'N_Higgs scaled: {N_higgs:.0f}'\u001b[0m\u001b[1;33m)\u001b[0m\u001b[1;33m\u001b[0m\u001b[1;33m\u001b[0m\u001b[0m\n\u001b[0;32m      4\u001b[0m \u001b[0mprint\u001b[0m\u001b[1;33m(\u001b[0m\u001b[1;34mf'N_QCD scaled: {N_qcd:.0f}'\u001b[0m\u001b[1;33m)\u001b[0m\u001b[1;33m\u001b[0m\u001b[1;33m\u001b[0m\u001b[0m\n",
      "\u001b[1;31mNameError\u001b[0m: name 'higgsData' is not defined"
     ]
    }
   ],
   "source": [
    "N_higgs = len(high.mass)/len(higgsData.mass)*exp_higgs\n",
    "N_qcd = len(high.mass)/len(qcdData.mass)*exp_qcd\n",
    "print(f'N_Higgs scaled: {N_higgs:.0f}')\n",
    "print(f'N_QCD scaled: {N_qcd:.0f}')"
   ]
  },
  {
   "cell_type": "code",
   "execution_count": null,
   "metadata": {},
   "outputs": [],
   "source": [
    "fig, ax_arr = plt.subplots(len(qcdData.keys()),1, figsize=(15,50))\n",
    "    index = 0\n",
    "    for key in qcd_Data.keys():\n",
    "        ax_arr[index].hist(qcdData.get(key), bins=100, density=True, alpha=0.7, label='QCD')\n",
    "        ax_arr[index].title.set_text(key)\n",
    "        ax_arr[index].hist(higgsData.get(key), bins=100, density=True, alpha=0.7, label='Higgs')\n",
    "        ax_arr[index].hist(high.get(key), bins=100, density=True, alpha = 0.7, label='High Luminosity Data')\n",
    "        ax_arr[index].title.set_text(key)\n",
    "        index += 1"
   ]
  }
 ]
}