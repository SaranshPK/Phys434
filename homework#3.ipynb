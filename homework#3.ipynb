{
 "metadata": {
  "language_info": {
   "codemirror_mode": {
    "name": "ipython",
    "version": 3
   },
   "file_extension": ".py",
   "mimetype": "text/x-python",
   "name": "python",
   "nbconvert_exporter": "python",
   "pygments_lexer": "ipython3",
   "version": 3
  },
  "orig_nbformat": 2
 },
 "nbformat": 4,
 "nbformat_minor": 2,
 "cells": [
  {
   "source": [
    "# Homework 2\n",
    "<br>\n",
    "Saransh Kacharia\n",
    "October 22nd, 2020"
   ],
   "cell_type": "markdown",
   "metadata": {}
  },
  {
   "source": [
    "__1.a.__ The first algorithm makes the fewest mistakes. It has 8 miscategorizations while the second algorithm has 12."
   ],
   "cell_type": "markdown",
   "metadata": {}
  },
  {
   "source": [
    "__1.b.__ The second algorithm is better for the zoo because it has the lowest miscategorization of birds. Even though it has a higher miscategorization of humans, the correct categorization of humans is not as important as the categorization of birds, because this system is being used to keep the birds from escaping, a bird escaping is unacceptable and a human being locked for 30 seconds in the enclosure is a minor inconvenience. "
   ],
   "cell_type": "markdown",
   "metadata": {}
  },
  {
   "source": [
    "__1.c.__ \n",
    "\n",
    "<table style=\"border-collapse: collapse;\">\n",
    "    <tr style=\"border-bottom: 1px solid black; border-collapse: collapse;\">\n",
    "        <th style=\"border-collapse: collapse; text-align: right; padding: 0px 0px 0px 30px;\"></th>\n",
    "        <th style=\"border-collapse: collapse; text-align: right; padding: 0px 0px 0px 30px\">True Bird</th>\n",
    "        <th style=\"border-collapse: collapse; text-align: right; padding: 0px 0px 0px 30px\">True Person</th>\n",
    "    </tr>\n",
    "    <tr style=\"border-collapse: collapse; background-color: #f5f5f5;\">\n",
    "        <th style=\"border-collapse: collapse; text-align: right;\">NN Bird</th>\n",
    "        <td style=\"border-collapse: collapse; text-align: right;\">45</td>\n",
    "        <td style=\"border-collapse: collapse; text-align: right;\">5</td>\n",
    "    </tr>\n",
    "    <tr style=\"border-collapse: collapse;\">\n",
    "        <th style=\"border-collapse: collapse; text-align: right;\">NN Person</th>\n",
    "        <td style=\"border-collapse: collapse; text-align: right;\">3</td>\n",
    "        <td style=\"border-collapse: collapse; text-align: right;\">47</td>\n",
    "    </tr>\n",
    "</table>"
   ],
   "cell_type": "markdown",
   "metadata": {}
  }
 ]
}