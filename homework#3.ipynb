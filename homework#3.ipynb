{
 "metadata": {
  "language_info": {
   "codemirror_mode": {
    "name": "ipython",
    "version": 3
   },
   "file_extension": ".py",
   "mimetype": "text/x-python",
   "name": "python",
   "nbconvert_exporter": "python",
   "pygments_lexer": "ipython3",
   "version": 3
  },
  "orig_nbformat": 2
 },
 "nbformat": 4,
 "nbformat_minor": 2,
 "cells": [
  {
   "source": [
    "# Homework 3\n",
    "<br>\n",
    "Saransh Kacharia\n",
    "<br>\n",
    "October 22nd, 2020"
   ],
   "cell_type": "markdown",
   "metadata": {}
  },
  {
   "source": [
    "__1.a.__ The first algorithm makes the fewest mistakes. It has 8 miscategorizations while the second algorithm has 12."
   ],
   "cell_type": "markdown",
   "metadata": {}
  },
  {
   "source": [
    "__1.b.__ The second algorithm is better for the zoo because it has the lowest miscategorization of birds. Even though it has a higher miscategorization of humans, the correct categorization of humans is not as important as the categorization of birds, because this system is being used to keep the birds from escaping, a bird escaping is unacceptable and a human being locked for 30 seconds in the enclosure is a minor inconvenience. "
   ],
   "cell_type": "markdown",
   "metadata": {}
  },
  {
   "source": [
    "__1.c.__ During the pandemic with only 1% of the pictures being of humans we have 99 pictures of birds and 1 picture of a human\n",
    "\n",
    "<br> \n",
    "Current Neural Network:\n",
    "<table style=\"border-collapse: collapse; background-color: white;\">\n",
    "    <tr style=\"border-bottom: 1px solid black; border-collapse: collapse; background-color: white;\">\n",
    "        <th style=\"border-collapse: collapse; text-align: right; padding: 0px 0px 0px 30px;\"></th>\n",
    "        <th style=\"border-collapse: collapse; text-align: right; padding: 0px 0px 0px 30px\">True Bird</th>\n",
    "        <th style=\"border-collapse: collapse; text-align: right; padding: 0px 0px 0px 30px\">True Person</th>\n",
    "    </tr>\n",
    "    <tr style=\"border-collapse: collapse; background-color: #f5f5f5;\">\n",
    "        <th style=\"border-collapse: collapse; text-align: right;\">NN Bird</th>\n",
    "        <td style=\"border-collapse: collapse; text-align: right;\">93</td>\n",
    "        <td style=\"border-collapse: collapse; text-align: right;\">0</td>\n",
    "    </tr>\n",
    "    <tr style=\"border-collapse: collapse; background-color: white;\">\n",
    "        <th style=\"border-collapse: collapse; text-align: right;\">NN Person</th>\n",
    "        <td style=\"border-collapse: collapse; text-align: right;\">6</td>\n",
    "        <td style=\"border-collapse: collapse; text-align: right;\">1</td>\n",
    "    </tr>\n",
    "</table>\n",
    "<br>\n",
    "New Algorithm:\n",
    "<table style=\"border-collapse: collapse; background-color: white;\">\n",
    "    <tr style=\"border-bottom: 1px solid black; border-collapse: collapse; background-color: white;\">\n",
    "        <th style=\"border-collapse: collapse; text-align: right; padding: 0px 0px 0px 30px;\"></th>\n",
    "        <th style=\"border-collapse: collapse; text-align: right; padding: 0px 0px 0px 30px\">True Bird</th>\n",
    "        <th style=\"border-collapse: collapse; text-align: right; padding: 0px 0px 0px 30px\">True Person</th>\n",
    "    </tr>\n",
    "    <tr style=\"border-collapse: collapse; background-color: #f5f5f5;\">\n",
    "        <th style=\"border-collapse: collapse; text-align: right;\">NN Bird</th>\n",
    "        <td style=\"border-collapse: collapse; text-align: right;\">97</td>\n",
    "        <td style=\"border-collapse: collapse; text-align: right;\">0</td>\n",
    "    </tr>\n",
    "    <tr style=\"border-collapse: collapse; background-color: white;\">\n",
    "        <th style=\"border-collapse: collapse; text-align: right;\">NN Person</th>\n",
    "        <td style=\"border-collapse: collapse; text-align: right;\">2</td>\n",
    "        <td style=\"border-collapse: collapse; text-align: right;\">1</td>\n",
    "    </tr>\n",
    "</table>\n"
   ],
   "cell_type": "markdown",
   "metadata": {}
  },
  {
   "source": [
    "__2.a.__ The pdf of the sum of two identical exponential distributions is an erlang distribution.\n",
    "\n",
    "The exponential distribution $f(x) = \\lambda e^{-\\lambda x}$, convolving two of them together we get  $f_2(x) = \\int_{z} f(z)\\cdot f(x-z) \\,dz = \\lambda^2xe^{-\\lambda x}$\n",
    "<br>\n",
    "<br>\n",
    "<br>\n",
    "__2.b.__ The pdf of the ratio of two zero-mean unity variance normal distribution $X_1/X_2$ is a Cauchy distribution\n",
    "\n",
    "The pdfs of the gaussian distributions are $f_{X_1}(x_1) = \\frac{1}{2\\pi} e^{-\\frac{x_1^2}{2}}$ and $f_{X_2}(x_2) = \\frac{1}{2\\pi} e^{-\\frac{x_2^2}{2}}$\n",
    "<br>\n",
    "The join probability density function is $f_{X_1, X_2}(x_1, x_2) = \\frac{1}{2\\pi} e^{-\\frac{x_1^2}{2}} e^{-\\frac{x_2^2}{2}}$\n",
    "<br>\n",
    "The Cauchy distribution is defined as $Z = X_1/X_2$ so we get $f_{Z}(x) = \\frac{1}{2\\pi} \\int_{z} \\lvert z \\rvert e^{-\\frac{(xz)^2}{2}} e^{-\\frac{(z)^2}{2}} = \\frac{1}{\\pi (x^2 + 1)}$\n",
    "<br>\n",
    "<br>\n",
    "<br>\n",
    "__2.c.__ The amplitude of a 2D gaussian vector is $\\lvert Z \\rvert = \\sqrt{X^2+Y^2}$ \n",
    "<br>\n",
    "The pdf of a 2D gaussian is $f(z) = \\frac{1}{\\lvert \\sqrt{2 \\pi \\Sigma} \\rvert} e^{-\\frac{1}{2} (z-\\mu)^T\\Sigma^{-1}(z-\\mu)}$ where $z = (x, y)$, $\\mu = (\\mu_x, \\mu_y)$, and $\\Sigma = E[(z-\\mu)(z-\\mu)^T]$ is the covariance matrix"
   ],
   "cell_type": "markdown",
   "metadata": {}
  }
 ]
}